{
  "nbformat": 4,
  "nbformat_minor": 0,
  "metadata": {
    "colab": {
      "provenance": [],
      "toc_visible": true,
      "authorship_tag": "ABX9TyOww2Bx8pO2KkvAok8HzE8V",
      "include_colab_link": true
    },
    "kernelspec": {
      "name": "python3",
      "display_name": "Python 3"
    },
    "language_info": {
      "name": "python"
    }
  },
  "cells": [
    {
      "cell_type": "markdown",
      "metadata": {
        "id": "view-in-github",
        "colab_type": "text"
      },
      "source": [
        "<a href=\"https://colab.research.google.com/github/joshua0231234/Calcudora-2/blob/main/Ia%20cambio%20de%20C%20a%20F%20.ipynb\" target=\"_parent\"><img src=\"https://colab.research.google.com/assets/colab-badge.svg\" alt=\"Open In Colab\"/></a>"
      ]
    },
    {
      "cell_type": "code",
      "execution_count": 3,
      "metadata": {
        "id": "YFCA2i7ajI05"
      },
      "outputs": [],
      "source": [
        "import tensorflow as tf\n",
        "import numpy as np\n",
        "import tensorflow as tf\n"
      ]
    },
    {
      "cell_type": "code",
      "source": [
        "celsius = np.array([-40,-10,0,8,15,22,38],dtype=float)\n",
        "faharenit = np.array([-40,14,32,46,59,72,100],dtype=float)\n"
      ],
      "metadata": {
        "id": "9Pkm4_bzjtVf"
      },
      "execution_count": 4,
      "outputs": []
    },
    {
      "cell_type": "code",
      "source": [
        "#capa = tf.keras.layers.Dense(units=1, input_shape=[1])\n",
        "#modelo = tf.keras.Sequential([capa])\n",
        "\n",
        "# Definir las capas\n",
        "oculta1 = tf.keras.layers.Dense(units=3, input_shape=[1])\n",
        "oculta2 = tf.keras.layers.Dense(units=3)\n",
        "salida = tf.keras.layers.Dense(units=1)\n",
        "\n",
        "# Crear el modelo secuencial\n",
        "modelo = tf.keras.Sequential([oculta1, oculta2, salida])\n",
        "\n",
        "# Compilar el modelo con una tasa de aprendizaje más baja\n",
        "modelo.compile(\n",
        "    optimizer=tf.keras.optimizers.Adam(learning_rate=0.01),  # Tasa de aprendizaje ajustada\n",
        "    loss='mean_squared_error'\n",
        ")\n",
        "\n",
        "\n",
        "\n",
        "\n"
      ],
      "metadata": {
        "id": "9E3V4-U0k5Gy",
        "colab": {
          "base_uri": "https://localhost:8080/"
        },
        "outputId": "490cdb70-3bcf-43df-e423-b892bb8fe93c"
      },
      "execution_count": 5,
      "outputs": [
        {
          "output_type": "stream",
          "name": "stderr",
          "text": [
            "/usr/local/lib/python3.10/dist-packages/keras/src/layers/core/dense.py:87: UserWarning: Do not pass an `input_shape`/`input_dim` argument to a layer. When using Sequential models, prefer using an `Input(shape)` object as the first layer in the model instead.\n",
            "  super().__init__(activity_regularizer=activity_regularizer, **kwargs)\n"
          ]
        }
      ]
    },
    {
      "cell_type": "code",
      "source": [
        "print(\"comenzar entramiento...\")\n",
        "historial = modelo.fit(celsius,faharenit,epochs=1000,verbose=False)\n",
        "print(\"modelo entrenando\")"
      ],
      "metadata": {
        "colab": {
          "base_uri": "https://localhost:8080/"
        },
        "id": "C9h3P5NGpN3n",
        "outputId": "43e75ac7-d9b9-480d-de4e-38e5fefe7e2a",
        "collapsed": true
      },
      "execution_count": 6,
      "outputs": [
        {
          "output_type": "stream",
          "name": "stdout",
          "text": [
            "comenzar entramiento...\n",
            "modelo entrenando\n"
          ]
        }
      ]
    },
    {
      "cell_type": "code",
      "source": [
        "import matplotlib.pyplot as plt\n",
        "\n",
        "# Etiquetas de los ejes\n",
        "plt.xlabel(\"# Época\")  # Eje X: Número de épocas\n",
        "plt.ylabel(\"Magnitud de Pérdida\")  # Eje Y: Magnitud de la pérdida\n",
        "\n",
        "# Graficar la pérdida a lo largo de las épocas\n",
        "plt.plot(historial.history[\"loss\"])\n",
        "\n",
        "# Mostrar el gráfico\n",
        "plt.show()\n"
      ],
      "metadata": {
        "colab": {
          "base_uri": "https://localhost:8080/",
          "height": 451
        },
        "id": "PpIkuaVeq6bw",
        "outputId": "dfaed308-45f2-4dba-dfee-0fe986c2a941"
      },
      "execution_count": 7,
      "outputs": [
        {
          "output_type": "display_data",
          "data": {
            "text/plain": [
              "<Figure size 640x480 with 1 Axes>"
            ],
            "image/png": "[encoded data removed]"
          },
          "metadata": {}
        }
      ]
    },
    {
      "cell_type": "code",
      "source": [
        "import numpy as np\n",
        "print(\"Hagamos una Predicion\")\n",
        "entrada = np.array([100.0])\n",
        "resultado = modelo.predict(entrada)\n",
        "print(\"El resultado es \" + str(resultado) + \" Fahrenheit\")\n",
        "\n",
        "print(\"Variables internas del Modelo \")\n",
        "#print(capa.get_weights())\n",
        "print(oculta1.get_weights())\n",
        "print(oculta2.get_weights())\n",
        "print(salida.get_weights())"
      ],
      "metadata": {
        "colab": {
          "base_uri": "https://localhost:8080/"
        },
        "id": "ooflVp0muFq5",
        "outputId": "23255858-3207-4032-b1ca-a892148cdf7b"
      },
      "execution_count": 8,
      "outputs": [
        {
          "output_type": "stream",
          "name": "stdout",
          "text": [
            "Hagamos una Predicion\n",
            "\u001b[1m1/1\u001b[0m \u001b[32m━━━━━━━━━━━━━━━━━━━━\u001b[0m\u001b[37m\u001b[0m \u001b[1m0s\u001b[0m 53ms/step\n",
            "El resultado es [[211.74208]] Fahrenheit\n",
            "Variables internas del Modelo \n",
            "[array([[ 1.1581055, -0.9828555, -0.4275757]], dtype=float32), array([ 1.6720157, -1.8268645,  2.533907 ], dtype=float32)]\n",
            "[array([[ 0.36702666,  0.88916165,  0.6188216 ],\n",
            "       [ 0.41189125, -1.0124282 , -0.4413168 ],\n",
            "       [ 1.4444047 ,  2.1760972 ,  0.7288657 ]], dtype=float32), array([1.5910996, 1.626285 , 1.5538888], dtype=float32)]\n",
            "[array([[1.642492 ],\n",
            "       [1.2928203],\n",
            "       [1.6264889]], dtype=float32), array([1.4858897], dtype=float32)]\n"
          ]
        }
      ]
    }
  ]
}